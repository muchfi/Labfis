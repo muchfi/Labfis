{
 "cells": [
  {
   "cell_type": "code",
   "execution_count": 215,
   "id": "d7dcc1cb",
   "metadata": {},
   "outputs": [],
   "source": [
    "import pandas as pd\n",
    "import numpy as np\n",
    "import seaborn as sns\n",
    "from sklearn.ensemble import RandomForestClassifier"
   ]
  },
  {
   "cell_type": "code",
   "execution_count": 216,
   "id": "da9c79ce",
   "metadata": {},
   "outputs": [],
   "source": [
    "data = pd.read_csv('data raw.csv')"
   ]
  },
  {
   "cell_type": "code",
   "execution_count": 218,
   "id": "10700f8b",
   "metadata": {},
   "outputs": [
    {
     "data": {
      "text/html": [
       "<div>\n",
       "<style scoped>\n",
       "    .dataframe tbody tr th:only-of-type {\n",
       "        vertical-align: middle;\n",
       "    }\n",
       "\n",
       "    .dataframe tbody tr th {\n",
       "        vertical-align: top;\n",
       "    }\n",
       "\n",
       "    .dataframe thead th {\n",
       "        text-align: right;\n",
       "    }\n",
       "</style>\n",
       "<table border=\"1\" class=\"dataframe\">\n",
       "  <thead>\n",
       "    <tr style=\"text-align: right;\">\n",
       "      <th></th>\n",
       "      <th>No</th>\n",
       "      <th>Materials</th>\n",
       "      <th>SA</th>\n",
       "      <th>Pore Volume</th>\n",
       "      <th>Id/Ig</th>\n",
       "      <th>C</th>\n",
       "      <th>O</th>\n",
       "      <th>N</th>\n",
       "      <th>Potential</th>\n",
       "      <th>Current</th>\n",
       "      <th>Electrolyte</th>\n",
       "      <th>Cap</th>\n",
       "    </tr>\n",
       "  </thead>\n",
       "  <tbody>\n",
       "    <tr>\n",
       "      <th>0</th>\n",
       "      <td>1</td>\n",
       "      <td>p-carbon</td>\n",
       "      <td>796.0</td>\n",
       "      <td>0.68</td>\n",
       "      <td>1.098901</td>\n",
       "      <td>94.971</td>\n",
       "      <td>1.105</td>\n",
       "      <td>0.000</td>\n",
       "      <td>1.0</td>\n",
       "      <td>0.5</td>\n",
       "      <td>6.0</td>\n",
       "      <td>107.3</td>\n",
       "    </tr>\n",
       "    <tr>\n",
       "      <th>1</th>\n",
       "      <td>2</td>\n",
       "      <td>p-carbon</td>\n",
       "      <td>796.0</td>\n",
       "      <td>0.68</td>\n",
       "      <td>1.098901</td>\n",
       "      <td>94.971</td>\n",
       "      <td>1.105</td>\n",
       "      <td>0.000</td>\n",
       "      <td>1.0</td>\n",
       "      <td>1.0</td>\n",
       "      <td>6.0</td>\n",
       "      <td>105.0</td>\n",
       "    </tr>\n",
       "    <tr>\n",
       "      <th>2</th>\n",
       "      <td>3</td>\n",
       "      <td>p-carbon</td>\n",
       "      <td>779.0</td>\n",
       "      <td>0.48</td>\n",
       "      <td>1.000000</td>\n",
       "      <td>88.174</td>\n",
       "      <td>3.869</td>\n",
       "      <td>0.414</td>\n",
       "      <td>1.0</td>\n",
       "      <td>0.5</td>\n",
       "      <td>6.0</td>\n",
       "      <td>142.8</td>\n",
       "    </tr>\n",
       "    <tr>\n",
       "      <th>3</th>\n",
       "      <td>4</td>\n",
       "      <td>p-carbon</td>\n",
       "      <td>779.0</td>\n",
       "      <td>0.48</td>\n",
       "      <td>1.000000</td>\n",
       "      <td>88.174</td>\n",
       "      <td>3.869</td>\n",
       "      <td>0.414</td>\n",
       "      <td>1.0</td>\n",
       "      <td>1.0</td>\n",
       "      <td>6.0</td>\n",
       "      <td>140.5</td>\n",
       "    </tr>\n",
       "    <tr>\n",
       "      <th>4</th>\n",
       "      <td>5</td>\n",
       "      <td>p-carbon</td>\n",
       "      <td>779.0</td>\n",
       "      <td>0.48</td>\n",
       "      <td>1.000000</td>\n",
       "      <td>88.174</td>\n",
       "      <td>3.869</td>\n",
       "      <td>0.414</td>\n",
       "      <td>1.0</td>\n",
       "      <td>10.0</td>\n",
       "      <td>6.0</td>\n",
       "      <td>112.5</td>\n",
       "    </tr>\n",
       "  </tbody>\n",
       "</table>\n",
       "</div>"
      ],
      "text/plain": [
       "   No Materials     SA  Pore Volume     Id/Ig       C      O      N  \\\n",
       "0   1  p-carbon  796.0         0.68  1.098901  94.971  1.105  0.000   \n",
       "1   2  p-carbon  796.0         0.68  1.098901  94.971  1.105  0.000   \n",
       "2   3  p-carbon  779.0         0.48  1.000000  88.174  3.869  0.414   \n",
       "3   4  p-carbon  779.0         0.48  1.000000  88.174  3.869  0.414   \n",
       "4   5  p-carbon  779.0         0.48  1.000000  88.174  3.869  0.414   \n",
       "\n",
       "   Potential  Current  Electrolyte    Cap  \n",
       "0        1.0      0.5          6.0  107.3  \n",
       "1        1.0      1.0          6.0  105.0  \n",
       "2        1.0      0.5          6.0  142.8  \n",
       "3        1.0      1.0          6.0  140.5  \n",
       "4        1.0     10.0          6.0  112.5  "
      ]
     },
     "execution_count": 218,
     "metadata": {},
     "output_type": "execute_result"
    }
   ],
   "source": [
    "data.head()"
   ]
  },
  {
   "cell_type": "code",
   "execution_count": 219,
   "id": "a421b184",
   "metadata": {},
   "outputs": [],
   "source": [
    "from sklearn.model_selection import train_test_split\n",
    "X_train, X_test, y_train, y_test = train_test_split(X, y, test_size=0.20, random_state=101)"
   ]
  },
  {
   "cell_type": "code",
   "execution_count": null,
   "id": "bb2976d4",
   "metadata": {},
   "outputs": [],
   "source": []
  },
  {
   "cell_type": "code",
   "execution_count": 220,
   "id": "8fb6b8ba",
   "metadata": {},
   "outputs": [],
   "source": [
    "# Number of trees in random forest\n",
    "n_estimators = [int(x) for x in np.linspace(start = 10, stop = 80, num = 10)]\n",
    "# Number of features to consider at every split\n",
    "max_features = ['auto', 'sqrt']\n",
    "# Maximum number of levels in tree\n",
    "max_depth = [2,4]\n",
    "# Minimum number of samples required to split a node\n",
    "min_samples_split = [2, 5]\n",
    "# Minimum number of samples required at each leaf node\n",
    "min_samples_leaf = [1, 2]\n",
    "# Method of selecting samples for training each tree\n",
    "bootstrap = [True, False]"
   ]
  },
  {
   "cell_type": "code",
   "execution_count": 221,
   "id": "2236f9d1",
   "metadata": {},
   "outputs": [
    {
     "name": "stdout",
     "output_type": "stream",
     "text": [
      "{'n_estimators': [10, 17, 25, 33, 41, 48, 56, 64, 72, 80], 'max_features': ['auto', 'sqrt'], 'max_depth': [2, 4], 'min_samples_split': [2, 5], 'min_samples_leaf': [1, 2], 'bootstrap': [True, False]}\n"
     ]
    }
   ],
   "source": [
    "# Create the param grid\n",
    "param_grid = {'n_estimators': n_estimators,\n",
    "               'max_features': max_features,\n",
    "               'max_depth': max_depth,\n",
    "               'min_samples_split': min_samples_split,\n",
    "               'min_samples_leaf': min_samples_leaf,\n",
    "               'bootstrap': bootstrap}\n",
    "print(param_grid)"
   ]
  },
  {
   "cell_type": "code",
   "execution_count": 222,
   "id": "d4bedc11",
   "metadata": {},
   "outputs": [],
   "source": [
    "rf_Model = RandomForestClassifier()"
   ]
  },
  {
   "cell_type": "code",
   "execution_count": 223,
   "id": "d0a9848e",
   "metadata": {},
   "outputs": [],
   "source": [
    "from sklearn.model_selection import RandomizedSearchCV\n",
    "rf_RandomGrid = RandomizedSearchCV(estimator = rf_Model, param_distributions = param_grid, cv = 10, verbose=2, n_jobs = 4)"
   ]
  },
  {
   "cell_type": "code",
   "execution_count": 224,
   "id": "820651a4",
   "metadata": {},
   "outputs": [
    {
     "name": "stdout",
     "output_type": "stream",
     "text": [
      "     Unnamed: 0   No         Materials      SA  Pore Volume  Id/Ig      C  \\\n",
      "43           43   44  activated carbon  1732.0        0.970   0.62  86.55   \n",
      "36           36   37  activated carbon   974.6        0.690   0.95  80.95   \n",
      "139         139  140  activated carbon  2738.6        1.452   0.98  87.51   \n",
      "91           91   92          p-carbon  1249.0        1.020   0.82  89.90   \n",
      "106         106  107  activated carbon  1733.0        0.860   1.38  79.38   \n",
      "..          ...  ...               ...     ...          ...    ...    ...   \n",
      "63           63   64  activated carbon  3550.7        2.168   0.97  92.40   \n",
      "326         326  327          graphene    81.7        0.110   0.00  65.40   \n",
      "337         337  338          graphene   520.0        1.500   0.81  90.10   \n",
      "11           11   12  activated carbon  1947.0        1.330   0.93  94.00   \n",
      "351         351  352          graphene   520.0        1.500   0.84  90.10   \n",
      "\n",
      "         O     N  Potential  Current  Electrolyte  B-doped graphene  \\\n",
      "43   13.45  0.00        1.0     2.00          6.0               0.0   \n",
      "36    9.93  9.12        1.0    20.00          6.0               0.0   \n",
      "139  11.41  1.08        1.0     0.50          6.0               0.0   \n",
      "91    8.50  1.60        1.0     0.20          6.0               0.0   \n",
      "106  18.98  1.64        0.9    30.00          6.0               0.0   \n",
      "..     ...   ...        ...      ...          ...               ...   \n",
      "63    5.20  1.50        1.0    15.00          6.0               0.0   \n",
      "326  29.00  0.00        1.0     0.25          6.0               0.0   \n",
      "337   9.90  0.00        0.0     0.50          6.0               0.0   \n",
      "11    4.90  0.65        1.0    10.00          6.0               0.0   \n",
      "351   9.00  0.00        0.0     0.50          6.0               0.0   \n",
      "\n",
      "     N-doped graphene  NB-doped graphene  activated_carbon  graphene  p-carbon  \n",
      "43                0.0                0.0               1.0       0.0       0.0  \n",
      "36                0.0                0.0               1.0       0.0       0.0  \n",
      "139               0.0                0.0               1.0       0.0       0.0  \n",
      "91                0.0                0.0               0.0       0.0       1.0  \n",
      "106               0.0                0.0               1.0       0.0       0.0  \n",
      "..                ...                ...               ...       ...       ...  \n",
      "63                0.0                0.0               1.0       0.0       0.0  \n",
      "326               0.0                0.0               0.0       1.0       0.0  \n",
      "337               0.0                0.0               0.0       1.0       0.0  \n",
      "11                0.0                0.0               1.0       0.0       0.0  \n",
      "351               0.0                0.0               0.0       1.0       0.0  \n",
      "\n",
      "[394 rows x 18 columns]\n"
     ]
    }
   ],
   "source": [
    "print(X_train)"
   ]
  },
  {
   "cell_type": "code",
   "execution_count": 225,
   "id": "8b43df78",
   "metadata": {},
   "outputs": [
    {
     "name": "stdout",
     "output_type": "stream",
     "text": [
      "['p-carbon' 'act-carbon' 'N-doped graphene' 'graphene' 'B-doped graphene'\n",
      " 'NB-doped graphene']\n"
     ]
    }
   ],
   "source": [
    "print(data['Materials'].unique())"
   ]
  },
  {
   "cell_type": "code",
   "execution_count": 226,
   "id": "7ca1da54",
   "metadata": {},
   "outputs": [
    {
     "data": {
      "text/plain": [
       "graphene             230\n",
       "act-carbon           159\n",
       "N-doped graphene      63\n",
       "p-carbon              29\n",
       "B-doped graphene       6\n",
       "NB-doped graphene      6\n",
       "Name: Materials, dtype: int64"
      ]
     },
     "execution_count": 226,
     "metadata": {},
     "output_type": "execute_result"
    }
   ],
   "source": [
    "data['Materials'].value_counts()"
   ]
  },
  {
   "cell_type": "code",
   "execution_count": 227,
   "id": "dfd4585d",
   "metadata": {},
   "outputs": [
    {
     "name": "stdout",
     "output_type": "stream",
     "text": [
      "      No      SA  Pore Volume     Id/Ig       C       O       N  Potential  \\\n",
      "0      1  796.00         0.68  1.098901  94.971   1.105   0.000        1.0   \n",
      "1      2  796.00         0.68  1.098901  94.971   1.105   0.000        1.0   \n",
      "2      3  779.00         0.48  1.000000  88.174   3.869   0.414        1.0   \n",
      "3      4  779.00         0.48  1.000000  88.174   3.869   0.414        1.0   \n",
      "4      5  779.00         0.48  1.000000  88.174   3.869   0.414        1.0   \n",
      "..   ...     ...          ...       ...     ...     ...     ...        ...   \n",
      "488  489  218.57         0.26  1.180000  71.690  12.170  11.890        1.0   \n",
      "489  490  218.57         0.26  1.180000  71.690  12.170  11.890        1.0   \n",
      "490  491  218.57         0.26  1.180000  71.690  12.170  11.890        1.0   \n",
      "491  492  218.57         0.26  1.180000  71.690  12.170  11.890        1.0   \n",
      "492  493    0.00         5.16  0.870000  64.790  35.210   0.000        1.0   \n",
      "\n",
      "     Current  Electrolyte    Cap  Materials_B-doped graphene  \\\n",
      "0        0.5          6.0  107.3                           0   \n",
      "1        1.0          6.0  105.0                           0   \n",
      "2        0.5          6.0  142.8                           0   \n",
      "3        1.0          6.0  140.5                           0   \n",
      "4       10.0          6.0  112.5                           0   \n",
      "..       ...          ...    ...                         ...   \n",
      "488      4.0          6.0  176.0                           0   \n",
      "489      8.0          6.0  161.6                           0   \n",
      "490     10.0          6.0  155.0                           0   \n",
      "491     20.0          6.0  152.0                           0   \n",
      "492      2.0          6.0   75.0                           0   \n",
      "\n",
      "     Materials_N-doped graphene  Materials_NB-doped graphene  \\\n",
      "0                             0                            0   \n",
      "1                             0                            0   \n",
      "2                             0                            0   \n",
      "3                             0                            0   \n",
      "4                             0                            0   \n",
      "..                          ...                          ...   \n",
      "488                           1                            0   \n",
      "489                           1                            0   \n",
      "490                           1                            0   \n",
      "491                           1                            0   \n",
      "492                           0                            0   \n",
      "\n",
      "     Materials_act-carbon  Materials_graphene  Materials_p-carbon  \n",
      "0                       0                   0                   1  \n",
      "1                       0                   0                   1  \n",
      "2                       0                   0                   1  \n",
      "3                       0                   0                   1  \n",
      "4                       0                   0                   1  \n",
      "..                    ...                 ...                 ...  \n",
      "488                     0                   0                   0  \n",
      "489                     0                   0                   0  \n",
      "490                     0                   0                   0  \n",
      "491                     0                   0                   0  \n",
      "492                     0                   1                   0  \n",
      "\n",
      "[493 rows x 17 columns]\n"
     ]
    }
   ],
   "source": [
    "one_hot_encoded_data = pd.get_dummies(data, columns = ['Materials'])\n",
    "print(one_hot_encoded_data)"
   ]
  },
  {
   "cell_type": "code",
   "execution_count": 244,
   "id": "3cf5e5d7",
   "metadata": {},
   "outputs": [
    {
     "name": "stdout",
     "output_type": "stream",
     "text": [
      "      No      SA  Pore Volume     Id/Ig       C       O       N  Potential  \\\n",
      "0      1  796.00         0.68  1.098901  94.971   1.105   0.000        1.0   \n",
      "1      2  796.00         0.68  1.098901  94.971   1.105   0.000        1.0   \n",
      "2      3  779.00         0.48  1.000000  88.174   3.869   0.414        1.0   \n",
      "3      4  779.00         0.48  1.000000  88.174   3.869   0.414        1.0   \n",
      "4      5  779.00         0.48  1.000000  88.174   3.869   0.414        1.0   \n",
      "..   ...     ...          ...       ...     ...     ...     ...        ...   \n",
      "488  489  218.57         0.26  1.180000  71.690  12.170  11.890        1.0   \n",
      "489  490  218.57         0.26  1.180000  71.690  12.170  11.890        1.0   \n",
      "490  491  218.57         0.26  1.180000  71.690  12.170  11.890        1.0   \n",
      "491  492  218.57         0.26  1.180000  71.690  12.170  11.890        1.0   \n",
      "492  493    0.00         5.16  0.870000  64.790  35.210   0.000        1.0   \n",
      "\n",
      "     Current  Electrolyte    Cap  Materials_new    0    1    2    3    4    5  \n",
      "0        0.5          6.0  107.3              5  0.0  0.0  0.0  0.0  0.0  1.0  \n",
      "1        1.0          6.0  105.0              5  0.0  0.0  0.0  0.0  0.0  1.0  \n",
      "2        0.5          6.0  142.8              5  0.0  0.0  0.0  0.0  0.0  1.0  \n",
      "3        1.0          6.0  140.5              5  0.0  0.0  0.0  0.0  0.0  1.0  \n",
      "4       10.0          6.0  112.5              5  0.0  0.0  0.0  0.0  0.0  1.0  \n",
      "..       ...          ...    ...            ...  ...  ...  ...  ...  ...  ...  \n",
      "488      4.0          6.0  176.0              1  0.0  1.0  0.0  0.0  0.0  0.0  \n",
      "489      8.0          6.0  161.6              1  0.0  1.0  0.0  0.0  0.0  0.0  \n",
      "490     10.0          6.0  155.0              1  0.0  1.0  0.0  0.0  0.0  0.0  \n",
      "491     20.0          6.0  152.0              1  0.0  1.0  0.0  0.0  0.0  0.0  \n",
      "492      2.0          6.0   75.0              4  0.0  0.0  0.0  0.0  1.0  0.0  \n",
      "\n",
      "[493 rows x 18 columns]\n"
     ]
    }
   ],
   "source": [
    "# importing libraries\n",
    "import pandas as pd\n",
    "import numpy as np\n",
    "from sklearn.preprocessing import OneHotEncoder\n",
    "  \n",
    "# Retrieving data\n",
    "data = pd.read_csv('data raw.csv')\n",
    "  \n",
    "# Converting type of columns to category\n",
    "data['Materials'] = data['Materials'].astype('category')\n",
    "  \n",
    "  \n",
    "# Assigning numerical values and storing it in another columns\n",
    "data['Materials_new'] = data['Materials'].cat.codes\n",
    "  \n",
    "  \n",
    "# Create an instance of One-hot-encoder\n",
    "enc = OneHotEncoder()\n",
    "  \n",
    "# Passing encoded columns\n",
    "  \n",
    "enc_data = pd.DataFrame(enc.fit_transform(\n",
    "    data[['Materials_new']]).toarray())\n",
    "  \n",
    "# Merge with main\n",
    "New_data = data.join(enc_data)\n",
    "del New_data['Materials']\n",
    "  \n",
    "print(New_data)"
   ]
  },
  {
   "cell_type": "code",
   "execution_count": 245,
   "id": "70772423",
   "metadata": {},
   "outputs": [
    {
     "name": "stdout",
     "output_type": "stream",
     "text": [
      "      No      SA  Pore Volume     Id/Ig       C       O       N  Potential  \\\n",
      "0      1  796.00         0.68  1.098901  94.971   1.105   0.000        1.0   \n",
      "1      2  796.00         0.68  1.098901  94.971   1.105   0.000        1.0   \n",
      "2      3  779.00         0.48  1.000000  88.174   3.869   0.414        1.0   \n",
      "3      4  779.00         0.48  1.000000  88.174   3.869   0.414        1.0   \n",
      "4      5  779.00         0.48  1.000000  88.174   3.869   0.414        1.0   \n",
      "..   ...     ...          ...       ...     ...     ...     ...        ...   \n",
      "488  489  218.57         0.26  1.180000  71.690  12.170  11.890        1.0   \n",
      "489  490  218.57         0.26  1.180000  71.690  12.170  11.890        1.0   \n",
      "490  491  218.57         0.26  1.180000  71.690  12.170  11.890        1.0   \n",
      "491  492  218.57         0.26  1.180000  71.690  12.170  11.890        1.0   \n",
      "492  493    0.00         5.16  0.870000  64.790  35.210   0.000        1.0   \n",
      "\n",
      "     Current  Electrolyte    Cap    0    1    2    3    4    5  \n",
      "0        0.5          6.0  107.3  0.0  0.0  0.0  0.0  0.0  1.0  \n",
      "1        1.0          6.0  105.0  0.0  0.0  0.0  0.0  0.0  1.0  \n",
      "2        0.5          6.0  142.8  0.0  0.0  0.0  0.0  0.0  1.0  \n",
      "3        1.0          6.0  140.5  0.0  0.0  0.0  0.0  0.0  1.0  \n",
      "4       10.0          6.0  112.5  0.0  0.0  0.0  0.0  0.0  1.0  \n",
      "..       ...          ...    ...  ...  ...  ...  ...  ...  ...  \n",
      "488      4.0          6.0  176.0  0.0  1.0  0.0  0.0  0.0  0.0  \n",
      "489      8.0          6.0  161.6  0.0  1.0  0.0  0.0  0.0  0.0  \n",
      "490     10.0          6.0  155.0  0.0  1.0  0.0  0.0  0.0  0.0  \n",
      "491     20.0          6.0  152.0  0.0  1.0  0.0  0.0  0.0  0.0  \n",
      "492      2.0          6.0   75.0  0.0  0.0  0.0  0.0  1.0  0.0  \n",
      "\n",
      "[493 rows x 17 columns]\n"
     ]
    }
   ],
   "source": [
    "#drop 'Materials' column\n",
    "New_data.drop('Materials_new', axis=1, inplace=True)\n",
    "\n",
    "#view final df\n",
    "print(New_data)"
   ]
  },
  {
   "cell_type": "code",
   "execution_count": 246,
   "id": "37d2ffd3",
   "metadata": {},
   "outputs": [
    {
     "name": "stdout",
     "output_type": "stream",
     "text": [
      "      No      SA  Pore Volume     Id/Ig       C       O       N  Potential  \\\n",
      "0      1  796.00         0.68  1.098901  94.971   1.105   0.000        1.0   \n",
      "1      2  796.00         0.68  1.098901  94.971   1.105   0.000        1.0   \n",
      "2      3  779.00         0.48  1.000000  88.174   3.869   0.414        1.0   \n",
      "3      4  779.00         0.48  1.000000  88.174   3.869   0.414        1.0   \n",
      "4      5  779.00         0.48  1.000000  88.174   3.869   0.414        1.0   \n",
      "..   ...     ...          ...       ...     ...     ...     ...        ...   \n",
      "488  489  218.57         0.26  1.180000  71.690  12.170  11.890        1.0   \n",
      "489  490  218.57         0.26  1.180000  71.690  12.170  11.890        1.0   \n",
      "490  491  218.57         0.26  1.180000  71.690  12.170  11.890        1.0   \n",
      "491  492  218.57         0.26  1.180000  71.690  12.170  11.890        1.0   \n",
      "492  493    0.00         5.16  0.870000  64.790  35.210   0.000        1.0   \n",
      "\n",
      "     Current  Electrolyte    Cap    0    1    2    3    4    5  \n",
      "0        0.5          6.0  107.3  0.0  0.0  0.0  0.0  0.0  1.0  \n",
      "1        1.0          6.0  105.0  0.0  0.0  0.0  0.0  0.0  1.0  \n",
      "2        0.5          6.0  142.8  0.0  0.0  0.0  0.0  0.0  1.0  \n",
      "3        1.0          6.0  140.5  0.0  0.0  0.0  0.0  0.0  1.0  \n",
      "4       10.0          6.0  112.5  0.0  0.0  0.0  0.0  0.0  1.0  \n",
      "..       ...          ...    ...  ...  ...  ...  ...  ...  ...  \n",
      "488      4.0          6.0  176.0  0.0  1.0  0.0  0.0  0.0  0.0  \n",
      "489      8.0          6.0  161.6  0.0  1.0  0.0  0.0  0.0  0.0  \n",
      "490     10.0          6.0  155.0  0.0  1.0  0.0  0.0  0.0  0.0  \n",
      "491     20.0          6.0  152.0  0.0  1.0  0.0  0.0  0.0  0.0  \n",
      "492      2.0          6.0   75.0  0.0  0.0  0.0  0.0  1.0  0.0  \n",
      "\n",
      "[493 rows x 17 columns]\n"
     ]
    }
   ],
   "source": [
    "print(New_data)"
   ]
  },
  {
   "cell_type": "code",
   "execution_count": 247,
   "id": "e8d901e9",
   "metadata": {},
   "outputs": [
    {
     "name": "stdout",
     "output_type": "stream",
     "text": [
      "493\n"
     ]
    }
   ],
   "source": [
    "#rename columns\n",
    "New_data.columns = ['No','SA', 'Pore Volume','Id/Ig','C','O','N','Potential','Current','Electrolyte','Cap','B-doped graphene','N-doped graphene','NB-doped graphene','act_carbon','graphene','p-carbon']\n",
    "\n",
    "#view New df\n",
    "print(len(New_data))"
   ]
  },
  {
   "cell_type": "code",
   "execution_count": 248,
   "id": "9837e9ce",
   "metadata": {},
   "outputs": [
    {
     "data": {
      "text/html": [
       "<div>\n",
       "<style scoped>\n",
       "    .dataframe tbody tr th:only-of-type {\n",
       "        vertical-align: middle;\n",
       "    }\n",
       "\n",
       "    .dataframe tbody tr th {\n",
       "        vertical-align: top;\n",
       "    }\n",
       "\n",
       "    .dataframe thead th {\n",
       "        text-align: right;\n",
       "    }\n",
       "</style>\n",
       "<table border=\"1\" class=\"dataframe\">\n",
       "  <thead>\n",
       "    <tr style=\"text-align: right;\">\n",
       "      <th></th>\n",
       "      <th>No</th>\n",
       "      <th>SA</th>\n",
       "      <th>Pore Volume</th>\n",
       "      <th>Id/Ig</th>\n",
       "      <th>C</th>\n",
       "      <th>O</th>\n",
       "      <th>N</th>\n",
       "      <th>Potential</th>\n",
       "      <th>Current</th>\n",
       "      <th>Electrolyte</th>\n",
       "      <th>Cap</th>\n",
       "      <th>B-doped graphene</th>\n",
       "      <th>N-doped graphene</th>\n",
       "      <th>NB-doped graphene</th>\n",
       "      <th>act_carbon</th>\n",
       "      <th>graphene</th>\n",
       "      <th>p-carbon</th>\n",
       "    </tr>\n",
       "  </thead>\n",
       "  <tbody>\n",
       "    <tr>\n",
       "      <th>0</th>\n",
       "      <td>1</td>\n",
       "      <td>796.0</td>\n",
       "      <td>0.68</td>\n",
       "      <td>1.098901</td>\n",
       "      <td>94.971</td>\n",
       "      <td>1.105</td>\n",
       "      <td>0.000</td>\n",
       "      <td>1.0</td>\n",
       "      <td>0.5</td>\n",
       "      <td>6.0</td>\n",
       "      <td>107.3</td>\n",
       "      <td>0.0</td>\n",
       "      <td>0.0</td>\n",
       "      <td>0.0</td>\n",
       "      <td>0.0</td>\n",
       "      <td>0.0</td>\n",
       "      <td>1.0</td>\n",
       "    </tr>\n",
       "    <tr>\n",
       "      <th>1</th>\n",
       "      <td>2</td>\n",
       "      <td>796.0</td>\n",
       "      <td>0.68</td>\n",
       "      <td>1.098901</td>\n",
       "      <td>94.971</td>\n",
       "      <td>1.105</td>\n",
       "      <td>0.000</td>\n",
       "      <td>1.0</td>\n",
       "      <td>1.0</td>\n",
       "      <td>6.0</td>\n",
       "      <td>105.0</td>\n",
       "      <td>0.0</td>\n",
       "      <td>0.0</td>\n",
       "      <td>0.0</td>\n",
       "      <td>0.0</td>\n",
       "      <td>0.0</td>\n",
       "      <td>1.0</td>\n",
       "    </tr>\n",
       "    <tr>\n",
       "      <th>2</th>\n",
       "      <td>3</td>\n",
       "      <td>779.0</td>\n",
       "      <td>0.48</td>\n",
       "      <td>1.000000</td>\n",
       "      <td>88.174</td>\n",
       "      <td>3.869</td>\n",
       "      <td>0.414</td>\n",
       "      <td>1.0</td>\n",
       "      <td>0.5</td>\n",
       "      <td>6.0</td>\n",
       "      <td>142.8</td>\n",
       "      <td>0.0</td>\n",
       "      <td>0.0</td>\n",
       "      <td>0.0</td>\n",
       "      <td>0.0</td>\n",
       "      <td>0.0</td>\n",
       "      <td>1.0</td>\n",
       "    </tr>\n",
       "    <tr>\n",
       "      <th>3</th>\n",
       "      <td>4</td>\n",
       "      <td>779.0</td>\n",
       "      <td>0.48</td>\n",
       "      <td>1.000000</td>\n",
       "      <td>88.174</td>\n",
       "      <td>3.869</td>\n",
       "      <td>0.414</td>\n",
       "      <td>1.0</td>\n",
       "      <td>1.0</td>\n",
       "      <td>6.0</td>\n",
       "      <td>140.5</td>\n",
       "      <td>0.0</td>\n",
       "      <td>0.0</td>\n",
       "      <td>0.0</td>\n",
       "      <td>0.0</td>\n",
       "      <td>0.0</td>\n",
       "      <td>1.0</td>\n",
       "    </tr>\n",
       "    <tr>\n",
       "      <th>4</th>\n",
       "      <td>5</td>\n",
       "      <td>779.0</td>\n",
       "      <td>0.48</td>\n",
       "      <td>1.000000</td>\n",
       "      <td>88.174</td>\n",
       "      <td>3.869</td>\n",
       "      <td>0.414</td>\n",
       "      <td>1.0</td>\n",
       "      <td>10.0</td>\n",
       "      <td>6.0</td>\n",
       "      <td>112.5</td>\n",
       "      <td>0.0</td>\n",
       "      <td>0.0</td>\n",
       "      <td>0.0</td>\n",
       "      <td>0.0</td>\n",
       "      <td>0.0</td>\n",
       "      <td>1.0</td>\n",
       "    </tr>\n",
       "  </tbody>\n",
       "</table>\n",
       "</div>"
      ],
      "text/plain": [
       "   No     SA  Pore Volume     Id/Ig       C      O      N  Potential  Current  \\\n",
       "0   1  796.0         0.68  1.098901  94.971  1.105  0.000        1.0      0.5   \n",
       "1   2  796.0         0.68  1.098901  94.971  1.105  0.000        1.0      1.0   \n",
       "2   3  779.0         0.48  1.000000  88.174  3.869  0.414        1.0      0.5   \n",
       "3   4  779.0         0.48  1.000000  88.174  3.869  0.414        1.0      1.0   \n",
       "4   5  779.0         0.48  1.000000  88.174  3.869  0.414        1.0     10.0   \n",
       "\n",
       "   Electrolyte    Cap  B-doped graphene  N-doped graphene  NB-doped graphene  \\\n",
       "0          6.0  107.3               0.0               0.0                0.0   \n",
       "1          6.0  105.0               0.0               0.0                0.0   \n",
       "2          6.0  142.8               0.0               0.0                0.0   \n",
       "3          6.0  140.5               0.0               0.0                0.0   \n",
       "4          6.0  112.5               0.0               0.0                0.0   \n",
       "\n",
       "   act_carbon  graphene  p-carbon  \n",
       "0         0.0       0.0       1.0  \n",
       "1         0.0       0.0       1.0  \n",
       "2         0.0       0.0       1.0  \n",
       "3         0.0       0.0       1.0  \n",
       "4         0.0       0.0       1.0  "
      ]
     },
     "execution_count": 248,
     "metadata": {},
     "output_type": "execute_result"
    }
   ],
   "source": [
    "New_data.head()"
   ]
  },
  {
   "cell_type": "code",
   "execution_count": 249,
   "id": "7c0ff5dc",
   "metadata": {},
   "outputs": [],
   "source": [
    "New_data.to_csv('data01.csv')"
   ]
  },
  {
   "cell_type": "code",
   "execution_count": 97,
   "id": "a2649558",
   "metadata": {},
   "outputs": [
    {
     "name": "stdout",
     "output_type": "stream",
     "text": [
      "43     148.6\n",
      "36     177.0\n",
      "139    327.5\n",
      "91     211.6\n",
      "106    191.0\n",
      "       ...  \n",
      "63     279.0\n",
      "326    339.0\n",
      "337    142.0\n",
      "11     300.0\n",
      "351    160.0\n",
      "Name: Cap, Length: 394, dtype: float64\n"
     ]
    }
   ],
   "source": [
    "print(y_train)"
   ]
  },
  {
   "cell_type": "code",
   "execution_count": 235,
   "id": "94752104",
   "metadata": {},
   "outputs": [
    {
     "data": {
      "text/html": [
       "<div>\n",
       "<style scoped>\n",
       "    .dataframe tbody tr th:only-of-type {\n",
       "        vertical-align: middle;\n",
       "    }\n",
       "\n",
       "    .dataframe tbody tr th {\n",
       "        vertical-align: top;\n",
       "    }\n",
       "\n",
       "    .dataframe thead th {\n",
       "        text-align: right;\n",
       "    }\n",
       "</style>\n",
       "<table border=\"1\" class=\"dataframe\">\n",
       "  <thead>\n",
       "    <tr style=\"text-align: right;\">\n",
       "      <th></th>\n",
       "      <th>SA</th>\n",
       "      <th>Pore Volume</th>\n",
       "      <th>Id/Ig</th>\n",
       "      <th>C</th>\n",
       "      <th>O</th>\n",
       "      <th>N</th>\n",
       "      <th>Potential</th>\n",
       "      <th>Current</th>\n",
       "      <th>Electrolyte</th>\n",
       "      <th>Cap</th>\n",
       "      <th>B-doped graphene</th>\n",
       "      <th>N-doped graphene</th>\n",
       "      <th>NB-doped graphene</th>\n",
       "      <th>act_carbon</th>\n",
       "      <th>graphene</th>\n",
       "      <th>p-carbon</th>\n",
       "    </tr>\n",
       "  </thead>\n",
       "  <tbody>\n",
       "    <tr>\n",
       "      <th>0</th>\n",
       "      <td>796.0</td>\n",
       "      <td>0.68</td>\n",
       "      <td>1.098901</td>\n",
       "      <td>94.971</td>\n",
       "      <td>1.105</td>\n",
       "      <td>0.000</td>\n",
       "      <td>1.0</td>\n",
       "      <td>0.5</td>\n",
       "      <td>6.0</td>\n",
       "      <td>107.3</td>\n",
       "      <td>0.0</td>\n",
       "      <td>0.0</td>\n",
       "      <td>0.0</td>\n",
       "      <td>0.0</td>\n",
       "      <td>0.0</td>\n",
       "      <td>1.0</td>\n",
       "    </tr>\n",
       "    <tr>\n",
       "      <th>1</th>\n",
       "      <td>796.0</td>\n",
       "      <td>0.68</td>\n",
       "      <td>1.098901</td>\n",
       "      <td>94.971</td>\n",
       "      <td>1.105</td>\n",
       "      <td>0.000</td>\n",
       "      <td>1.0</td>\n",
       "      <td>1.0</td>\n",
       "      <td>6.0</td>\n",
       "      <td>105.0</td>\n",
       "      <td>0.0</td>\n",
       "      <td>0.0</td>\n",
       "      <td>0.0</td>\n",
       "      <td>0.0</td>\n",
       "      <td>0.0</td>\n",
       "      <td>1.0</td>\n",
       "    </tr>\n",
       "    <tr>\n",
       "      <th>2</th>\n",
       "      <td>779.0</td>\n",
       "      <td>0.48</td>\n",
       "      <td>1.000000</td>\n",
       "      <td>88.174</td>\n",
       "      <td>3.869</td>\n",
       "      <td>0.414</td>\n",
       "      <td>1.0</td>\n",
       "      <td>0.5</td>\n",
       "      <td>6.0</td>\n",
       "      <td>142.8</td>\n",
       "      <td>0.0</td>\n",
       "      <td>0.0</td>\n",
       "      <td>0.0</td>\n",
       "      <td>0.0</td>\n",
       "      <td>0.0</td>\n",
       "      <td>1.0</td>\n",
       "    </tr>\n",
       "    <tr>\n",
       "      <th>3</th>\n",
       "      <td>779.0</td>\n",
       "      <td>0.48</td>\n",
       "      <td>1.000000</td>\n",
       "      <td>88.174</td>\n",
       "      <td>3.869</td>\n",
       "      <td>0.414</td>\n",
       "      <td>1.0</td>\n",
       "      <td>1.0</td>\n",
       "      <td>6.0</td>\n",
       "      <td>140.5</td>\n",
       "      <td>0.0</td>\n",
       "      <td>0.0</td>\n",
       "      <td>0.0</td>\n",
       "      <td>0.0</td>\n",
       "      <td>0.0</td>\n",
       "      <td>1.0</td>\n",
       "    </tr>\n",
       "    <tr>\n",
       "      <th>4</th>\n",
       "      <td>779.0</td>\n",
       "      <td>0.48</td>\n",
       "      <td>1.000000</td>\n",
       "      <td>88.174</td>\n",
       "      <td>3.869</td>\n",
       "      <td>0.414</td>\n",
       "      <td>1.0</td>\n",
       "      <td>10.0</td>\n",
       "      <td>6.0</td>\n",
       "      <td>112.5</td>\n",
       "      <td>0.0</td>\n",
       "      <td>0.0</td>\n",
       "      <td>0.0</td>\n",
       "      <td>0.0</td>\n",
       "      <td>0.0</td>\n",
       "      <td>1.0</td>\n",
       "    </tr>\n",
       "  </tbody>\n",
       "</table>\n",
       "</div>"
      ],
      "text/plain": [
       "      SA  Pore Volume     Id/Ig       C      O      N  Potential  Current  \\\n",
       "0  796.0         0.68  1.098901  94.971  1.105  0.000        1.0      0.5   \n",
       "1  796.0         0.68  1.098901  94.971  1.105  0.000        1.0      1.0   \n",
       "2  779.0         0.48  1.000000  88.174  3.869  0.414        1.0      0.5   \n",
       "3  779.0         0.48  1.000000  88.174  3.869  0.414        1.0      1.0   \n",
       "4  779.0         0.48  1.000000  88.174  3.869  0.414        1.0     10.0   \n",
       "\n",
       "   Electrolyte    Cap  B-doped graphene  N-doped graphene  NB-doped graphene  \\\n",
       "0          6.0  107.3               0.0               0.0                0.0   \n",
       "1          6.0  105.0               0.0               0.0                0.0   \n",
       "2          6.0  142.8               0.0               0.0                0.0   \n",
       "3          6.0  140.5               0.0               0.0                0.0   \n",
       "4          6.0  112.5               0.0               0.0                0.0   \n",
       "\n",
       "   act_carbon  graphene  p-carbon  \n",
       "0         0.0       0.0       1.0  \n",
       "1         0.0       0.0       1.0  \n",
       "2         0.0       0.0       1.0  \n",
       "3         0.0       0.0       1.0  \n",
       "4         0.0       0.0       1.0  "
      ]
     },
     "execution_count": 235,
     "metadata": {},
     "output_type": "execute_result"
    }
   ],
   "source": [
    "# One-hot encode the data using pandas get_dummies\n",
    "New_data = pd.get_dummies(New_data)\n",
    "# Display the first 5 rows of the last 12 columns\n",
    "New_data.iloc[:,1:].head()"
   ]
  },
  {
   "cell_type": "code",
   "execution_count": 236,
   "id": "748b85d4",
   "metadata": {},
   "outputs": [],
   "source": [
    "#Get Target data \n",
    "y = data['Cap']\n",
    "\n",
    "#Load X Variables into a Pandas Dataframe with columns \n",
    "X = data.drop(['Cap'], axis = 1)"
   ]
  },
  {
   "cell_type": "code",
   "execution_count": 237,
   "id": "cbc9649a",
   "metadata": {},
   "outputs": [],
   "source": [
    "# Labels are the values we want to predict\n",
    "labels = np.array(New_data['Cap'])\n",
    "# Remove the labels from the features\n",
    "# axis 1 refers to the columns\n",
    "New_data= New_data.drop('Cap', axis = 1)\n",
    "# Saving feature names for later use\n",
    "New_data_list = list(New_data.columns)\n",
    "# Convert to numpy array\n",
    "New_data = np.array(New_data)"
   ]
  },
  {
   "cell_type": "code",
   "execution_count": 238,
   "id": "b8fa04af",
   "metadata": {},
   "outputs": [
    {
     "name": "stdout",
     "output_type": "stream",
     "text": [
      "Fitting 10 folds for each of 10 candidates, totalling 100 fits\n"
     ]
    },
    {
     "name": "stderr",
     "output_type": "stream",
     "text": [
      "C:\\Users\\Acer\\anaconda3\\lib\\site-packages\\sklearn\\model_selection\\_validation.py:372: FitFailedWarning: \n",
      "100 fits failed out of a total of 100.\n",
      "The score on these train-test partitions for these parameters will be set to nan.\n",
      "If these failures are not expected, you can try to debug them by setting error_score='raise'.\n",
      "\n",
      "Below are more details about the failures:\n",
      "--------------------------------------------------------------------------------\n",
      "100 fits failed with the following error:\n",
      "Traceback (most recent call last):\n",
      "  File \"C:\\Users\\Acer\\anaconda3\\lib\\site-packages\\sklearn\\model_selection\\_validation.py\", line 680, in _fit_and_score\n",
      "    estimator.fit(X_train, y_train, **fit_params)\n",
      "  File \"C:\\Users\\Acer\\anaconda3\\lib\\site-packages\\sklearn\\ensemble\\_forest.py\", line 327, in fit\n",
      "    X, y = self._validate_data(\n",
      "  File \"C:\\Users\\Acer\\anaconda3\\lib\\site-packages\\sklearn\\base.py\", line 581, in _validate_data\n",
      "    X, y = check_X_y(X, y, **check_params)\n",
      "  File \"C:\\Users\\Acer\\anaconda3\\lib\\site-packages\\sklearn\\utils\\validation.py\", line 964, in check_X_y\n",
      "    X = check_array(\n",
      "  File \"C:\\Users\\Acer\\anaconda3\\lib\\site-packages\\sklearn\\utils\\validation.py\", line 746, in check_array\n",
      "    array = np.asarray(array, order=order, dtype=dtype)\n",
      "  File \"C:\\Users\\Acer\\anaconda3\\lib\\site-packages\\pandas\\core\\generic.py\", line 2064, in __array__\n",
      "    return np.asarray(self._values, dtype=dtype)\n",
      "ValueError: could not convert string to float: 'activated carbon'\n",
      "\n",
      "  warnings.warn(some_fits_failed_message, FitFailedWarning)\n",
      "C:\\Users\\Acer\\anaconda3\\lib\\site-packages\\sklearn\\model_selection\\_search.py:969: UserWarning: One or more of the test scores are non-finite: [nan nan nan nan nan nan nan nan nan nan]\n",
      "  warnings.warn(\n"
     ]
    },
    {
     "ename": "ValueError",
     "evalue": "could not convert string to float: 'activated carbon'",
     "output_type": "error",
     "traceback": [
      "\u001b[1;31m---------------------------------------------------------------------------\u001b[0m",
      "\u001b[1;31mValueError\u001b[0m                                Traceback (most recent call last)",
      "\u001b[1;32m~\\AppData\\Local\\Temp\\ipykernel_8052\\1906738836.py\u001b[0m in \u001b[0;36m<module>\u001b[1;34m\u001b[0m\n\u001b[1;32m----> 1\u001b[1;33m \u001b[0mrf_RandomGrid\u001b[0m\u001b[1;33m.\u001b[0m\u001b[0mfit\u001b[0m\u001b[1;33m(\u001b[0m\u001b[0mX_train\u001b[0m\u001b[1;33m,\u001b[0m \u001b[0my_train\u001b[0m\u001b[1;33m)\u001b[0m\u001b[1;33m\u001b[0m\u001b[1;33m\u001b[0m\u001b[0m\n\u001b[0m",
      "\u001b[1;32m~\\anaconda3\\lib\\site-packages\\sklearn\\model_selection\\_search.py\u001b[0m in \u001b[0;36mfit\u001b[1;34m(self, X, y, groups, **fit_params)\u001b[0m\n\u001b[0;32m    924\u001b[0m             \u001b[0mrefit_start_time\u001b[0m \u001b[1;33m=\u001b[0m \u001b[0mtime\u001b[0m\u001b[1;33m.\u001b[0m\u001b[0mtime\u001b[0m\u001b[1;33m(\u001b[0m\u001b[1;33m)\u001b[0m\u001b[1;33m\u001b[0m\u001b[1;33m\u001b[0m\u001b[0m\n\u001b[0;32m    925\u001b[0m             \u001b[1;32mif\u001b[0m \u001b[0my\u001b[0m \u001b[1;32mis\u001b[0m \u001b[1;32mnot\u001b[0m \u001b[1;32mNone\u001b[0m\u001b[1;33m:\u001b[0m\u001b[1;33m\u001b[0m\u001b[1;33m\u001b[0m\u001b[0m\n\u001b[1;32m--> 926\u001b[1;33m                 \u001b[0mself\u001b[0m\u001b[1;33m.\u001b[0m\u001b[0mbest_estimator_\u001b[0m\u001b[1;33m.\u001b[0m\u001b[0mfit\u001b[0m\u001b[1;33m(\u001b[0m\u001b[0mX\u001b[0m\u001b[1;33m,\u001b[0m \u001b[0my\u001b[0m\u001b[1;33m,\u001b[0m \u001b[1;33m**\u001b[0m\u001b[0mfit_params\u001b[0m\u001b[1;33m)\u001b[0m\u001b[1;33m\u001b[0m\u001b[1;33m\u001b[0m\u001b[0m\n\u001b[0m\u001b[0;32m    927\u001b[0m             \u001b[1;32melse\u001b[0m\u001b[1;33m:\u001b[0m\u001b[1;33m\u001b[0m\u001b[1;33m\u001b[0m\u001b[0m\n\u001b[0;32m    928\u001b[0m                 \u001b[0mself\u001b[0m\u001b[1;33m.\u001b[0m\u001b[0mbest_estimator_\u001b[0m\u001b[1;33m.\u001b[0m\u001b[0mfit\u001b[0m\u001b[1;33m(\u001b[0m\u001b[0mX\u001b[0m\u001b[1;33m,\u001b[0m \u001b[1;33m**\u001b[0m\u001b[0mfit_params\u001b[0m\u001b[1;33m)\u001b[0m\u001b[1;33m\u001b[0m\u001b[1;33m\u001b[0m\u001b[0m\n",
      "\u001b[1;32m~\\anaconda3\\lib\\site-packages\\sklearn\\ensemble\\_forest.py\u001b[0m in \u001b[0;36mfit\u001b[1;34m(self, X, y, sample_weight)\u001b[0m\n\u001b[0;32m    325\u001b[0m         \u001b[1;32mif\u001b[0m \u001b[0missparse\u001b[0m\u001b[1;33m(\u001b[0m\u001b[0my\u001b[0m\u001b[1;33m)\u001b[0m\u001b[1;33m:\u001b[0m\u001b[1;33m\u001b[0m\u001b[1;33m\u001b[0m\u001b[0m\n\u001b[0;32m    326\u001b[0m             \u001b[1;32mraise\u001b[0m \u001b[0mValueError\u001b[0m\u001b[1;33m(\u001b[0m\u001b[1;34m\"sparse multilabel-indicator for y is not supported.\"\u001b[0m\u001b[1;33m)\u001b[0m\u001b[1;33m\u001b[0m\u001b[1;33m\u001b[0m\u001b[0m\n\u001b[1;32m--> 327\u001b[1;33m         X, y = self._validate_data(\n\u001b[0m\u001b[0;32m    328\u001b[0m             \u001b[0mX\u001b[0m\u001b[1;33m,\u001b[0m \u001b[0my\u001b[0m\u001b[1;33m,\u001b[0m \u001b[0mmulti_output\u001b[0m\u001b[1;33m=\u001b[0m\u001b[1;32mTrue\u001b[0m\u001b[1;33m,\u001b[0m \u001b[0maccept_sparse\u001b[0m\u001b[1;33m=\u001b[0m\u001b[1;34m\"csc\"\u001b[0m\u001b[1;33m,\u001b[0m \u001b[0mdtype\u001b[0m\u001b[1;33m=\u001b[0m\u001b[0mDTYPE\u001b[0m\u001b[1;33m\u001b[0m\u001b[1;33m\u001b[0m\u001b[0m\n\u001b[0;32m    329\u001b[0m         )\n",
      "\u001b[1;32m~\\anaconda3\\lib\\site-packages\\sklearn\\base.py\u001b[0m in \u001b[0;36m_validate_data\u001b[1;34m(self, X, y, reset, validate_separately, **check_params)\u001b[0m\n\u001b[0;32m    579\u001b[0m                 \u001b[0my\u001b[0m \u001b[1;33m=\u001b[0m \u001b[0mcheck_array\u001b[0m\u001b[1;33m(\u001b[0m\u001b[0my\u001b[0m\u001b[1;33m,\u001b[0m \u001b[1;33m**\u001b[0m\u001b[0mcheck_y_params\u001b[0m\u001b[1;33m)\u001b[0m\u001b[1;33m\u001b[0m\u001b[1;33m\u001b[0m\u001b[0m\n\u001b[0;32m    580\u001b[0m             \u001b[1;32melse\u001b[0m\u001b[1;33m:\u001b[0m\u001b[1;33m\u001b[0m\u001b[1;33m\u001b[0m\u001b[0m\n\u001b[1;32m--> 581\u001b[1;33m                 \u001b[0mX\u001b[0m\u001b[1;33m,\u001b[0m \u001b[0my\u001b[0m \u001b[1;33m=\u001b[0m \u001b[0mcheck_X_y\u001b[0m\u001b[1;33m(\u001b[0m\u001b[0mX\u001b[0m\u001b[1;33m,\u001b[0m \u001b[0my\u001b[0m\u001b[1;33m,\u001b[0m \u001b[1;33m**\u001b[0m\u001b[0mcheck_params\u001b[0m\u001b[1;33m)\u001b[0m\u001b[1;33m\u001b[0m\u001b[1;33m\u001b[0m\u001b[0m\n\u001b[0m\u001b[0;32m    582\u001b[0m             \u001b[0mout\u001b[0m \u001b[1;33m=\u001b[0m \u001b[0mX\u001b[0m\u001b[1;33m,\u001b[0m \u001b[0my\u001b[0m\u001b[1;33m\u001b[0m\u001b[1;33m\u001b[0m\u001b[0m\n\u001b[0;32m    583\u001b[0m \u001b[1;33m\u001b[0m\u001b[0m\n",
      "\u001b[1;32m~\\anaconda3\\lib\\site-packages\\sklearn\\utils\\validation.py\u001b[0m in \u001b[0;36mcheck_X_y\u001b[1;34m(X, y, accept_sparse, accept_large_sparse, dtype, order, copy, force_all_finite, ensure_2d, allow_nd, multi_output, ensure_min_samples, ensure_min_features, y_numeric, estimator)\u001b[0m\n\u001b[0;32m    962\u001b[0m         \u001b[1;32mraise\u001b[0m \u001b[0mValueError\u001b[0m\u001b[1;33m(\u001b[0m\u001b[1;34m\"y cannot be None\"\u001b[0m\u001b[1;33m)\u001b[0m\u001b[1;33m\u001b[0m\u001b[1;33m\u001b[0m\u001b[0m\n\u001b[0;32m    963\u001b[0m \u001b[1;33m\u001b[0m\u001b[0m\n\u001b[1;32m--> 964\u001b[1;33m     X = check_array(\n\u001b[0m\u001b[0;32m    965\u001b[0m         \u001b[0mX\u001b[0m\u001b[1;33m,\u001b[0m\u001b[1;33m\u001b[0m\u001b[1;33m\u001b[0m\u001b[0m\n\u001b[0;32m    966\u001b[0m         \u001b[0maccept_sparse\u001b[0m\u001b[1;33m=\u001b[0m\u001b[0maccept_sparse\u001b[0m\u001b[1;33m,\u001b[0m\u001b[1;33m\u001b[0m\u001b[1;33m\u001b[0m\u001b[0m\n",
      "\u001b[1;32m~\\anaconda3\\lib\\site-packages\\sklearn\\utils\\validation.py\u001b[0m in \u001b[0;36mcheck_array\u001b[1;34m(array, accept_sparse, accept_large_sparse, dtype, order, copy, force_all_finite, ensure_2d, allow_nd, ensure_min_samples, ensure_min_features, estimator)\u001b[0m\n\u001b[0;32m    744\u001b[0m                     \u001b[0marray\u001b[0m \u001b[1;33m=\u001b[0m \u001b[0marray\u001b[0m\u001b[1;33m.\u001b[0m\u001b[0mastype\u001b[0m\u001b[1;33m(\u001b[0m\u001b[0mdtype\u001b[0m\u001b[1;33m,\u001b[0m \u001b[0mcasting\u001b[0m\u001b[1;33m=\u001b[0m\u001b[1;34m\"unsafe\"\u001b[0m\u001b[1;33m,\u001b[0m \u001b[0mcopy\u001b[0m\u001b[1;33m=\u001b[0m\u001b[1;32mFalse\u001b[0m\u001b[1;33m)\u001b[0m\u001b[1;33m\u001b[0m\u001b[1;33m\u001b[0m\u001b[0m\n\u001b[0;32m    745\u001b[0m                 \u001b[1;32melse\u001b[0m\u001b[1;33m:\u001b[0m\u001b[1;33m\u001b[0m\u001b[1;33m\u001b[0m\u001b[0m\n\u001b[1;32m--> 746\u001b[1;33m                     \u001b[0marray\u001b[0m \u001b[1;33m=\u001b[0m \u001b[0mnp\u001b[0m\u001b[1;33m.\u001b[0m\u001b[0masarray\u001b[0m\u001b[1;33m(\u001b[0m\u001b[0marray\u001b[0m\u001b[1;33m,\u001b[0m \u001b[0morder\u001b[0m\u001b[1;33m=\u001b[0m\u001b[0morder\u001b[0m\u001b[1;33m,\u001b[0m \u001b[0mdtype\u001b[0m\u001b[1;33m=\u001b[0m\u001b[0mdtype\u001b[0m\u001b[1;33m)\u001b[0m\u001b[1;33m\u001b[0m\u001b[1;33m\u001b[0m\u001b[0m\n\u001b[0m\u001b[0;32m    747\u001b[0m             \u001b[1;32mexcept\u001b[0m \u001b[0mComplexWarning\u001b[0m \u001b[1;32mas\u001b[0m \u001b[0mcomplex_warning\u001b[0m\u001b[1;33m:\u001b[0m\u001b[1;33m\u001b[0m\u001b[1;33m\u001b[0m\u001b[0m\n\u001b[0;32m    748\u001b[0m                 raise ValueError(\n",
      "\u001b[1;32m~\\anaconda3\\lib\\site-packages\\pandas\\core\\generic.py\u001b[0m in \u001b[0;36m__array__\u001b[1;34m(self, dtype)\u001b[0m\n\u001b[0;32m   2062\u001b[0m \u001b[1;33m\u001b[0m\u001b[0m\n\u001b[0;32m   2063\u001b[0m     \u001b[1;32mdef\u001b[0m \u001b[0m__array__\u001b[0m\u001b[1;33m(\u001b[0m\u001b[0mself\u001b[0m\u001b[1;33m,\u001b[0m \u001b[0mdtype\u001b[0m\u001b[1;33m:\u001b[0m \u001b[0mnpt\u001b[0m\u001b[1;33m.\u001b[0m\u001b[0mDTypeLike\u001b[0m \u001b[1;33m|\u001b[0m \u001b[1;32mNone\u001b[0m \u001b[1;33m=\u001b[0m \u001b[1;32mNone\u001b[0m\u001b[1;33m)\u001b[0m \u001b[1;33m->\u001b[0m \u001b[0mnp\u001b[0m\u001b[1;33m.\u001b[0m\u001b[0mndarray\u001b[0m\u001b[1;33m:\u001b[0m\u001b[1;33m\u001b[0m\u001b[1;33m\u001b[0m\u001b[0m\n\u001b[1;32m-> 2064\u001b[1;33m         \u001b[1;32mreturn\u001b[0m \u001b[0mnp\u001b[0m\u001b[1;33m.\u001b[0m\u001b[0masarray\u001b[0m\u001b[1;33m(\u001b[0m\u001b[0mself\u001b[0m\u001b[1;33m.\u001b[0m\u001b[0m_values\u001b[0m\u001b[1;33m,\u001b[0m \u001b[0mdtype\u001b[0m\u001b[1;33m=\u001b[0m\u001b[0mdtype\u001b[0m\u001b[1;33m)\u001b[0m\u001b[1;33m\u001b[0m\u001b[1;33m\u001b[0m\u001b[0m\n\u001b[0m\u001b[0;32m   2065\u001b[0m \u001b[1;33m\u001b[0m\u001b[0m\n\u001b[0;32m   2066\u001b[0m     def __array_wrap__(\n",
      "\u001b[1;31mValueError\u001b[0m: could not convert string to float: 'activated carbon'"
     ]
    }
   ],
   "source": [
    "rf_RandomGrid.fit(X_train, y_train)"
   ]
  },
  {
   "cell_type": "code",
   "execution_count": null,
   "id": "87652f4b",
   "metadata": {},
   "outputs": [],
   "source": [
    "rf_Grid.best_params_"
   ]
  },
  {
   "cell_type": "code",
   "execution_count": null,
   "id": "829e3c87",
   "metadata": {},
   "outputs": [],
   "source": [
    "rf_RandomGrid.best_params_"
   ]
  },
  {
   "cell_type": "code",
   "execution_count": 123,
   "id": "63e26af0",
   "metadata": {},
   "outputs": [
    {
     "ename": "NameError",
     "evalue": "name 'rf_Grid' is not defined",
     "output_type": "error",
     "traceback": [
      "\u001b[1;31m---------------------------------------------------------------------------\u001b[0m",
      "\u001b[1;31mNameError\u001b[0m                                 Traceback (most recent call last)",
      "\u001b[1;32m~\\AppData\\Local\\Temp\\ipykernel_8052\\47181209.py\u001b[0m in \u001b[0;36m<module>\u001b[1;34m\u001b[0m\n\u001b[1;32m----> 1\u001b[1;33m \u001b[0mprint\u001b[0m \u001b[1;33m(\u001b[0m\u001b[1;34mf'Train Accuracy - : {rf_Grid.score(X_train,y_train):.3f}'\u001b[0m\u001b[1;33m)\u001b[0m\u001b[1;33m\u001b[0m\u001b[1;33m\u001b[0m\u001b[0m\n\u001b[0m\u001b[0;32m      2\u001b[0m \u001b[0mprint\u001b[0m \u001b[1;33m(\u001b[0m\u001b[1;34mf'Test Accuracy - : {rf_Grid.score(X_test,y_test):.3f}'\u001b[0m\u001b[1;33m)\u001b[0m\u001b[1;33m\u001b[0m\u001b[1;33m\u001b[0m\u001b[0m\n",
      "\u001b[1;31mNameError\u001b[0m: name 'rf_Grid' is not defined"
     ]
    }
   ],
   "source": [
    "print (f'Train Accuracy - : {rf_Grid.score(X_train,y_train):.3f}')\n",
    "print (f'Test Accuracy - : {rf_Grid.score(X_test,y_test):.3f}')"
   ]
  },
  {
   "cell_type": "code",
   "execution_count": 124,
   "id": "52c68929",
   "metadata": {},
   "outputs": [
    {
     "ename": "AttributeError",
     "evalue": "'RandomizedSearchCV' object has no attribute 'scorer_'",
     "output_type": "error",
     "traceback": [
      "\u001b[1;31m---------------------------------------------------------------------------\u001b[0m",
      "\u001b[1;31mAttributeError\u001b[0m                            Traceback (most recent call last)",
      "\u001b[1;32m~\\AppData\\Local\\Temp\\ipykernel_8052\\2391945758.py\u001b[0m in \u001b[0;36m<module>\u001b[1;34m\u001b[0m\n\u001b[1;32m----> 1\u001b[1;33m \u001b[0mprint\u001b[0m \u001b[1;33m(\u001b[0m\u001b[1;34mf'Train Accuracy - : {rf_RandomGrid.score(X_train,y_train):.3f}'\u001b[0m\u001b[1;33m)\u001b[0m\u001b[1;33m\u001b[0m\u001b[1;33m\u001b[0m\u001b[0m\n\u001b[0m\u001b[0;32m      2\u001b[0m \u001b[0mprint\u001b[0m \u001b[1;33m(\u001b[0m\u001b[1;34mf'Test Accuracy - : {rf_RandomGrid.score(X_test,y_test):.3f}'\u001b[0m\u001b[1;33m)\u001b[0m\u001b[1;33m\u001b[0m\u001b[1;33m\u001b[0m\u001b[0m\n",
      "\u001b[1;32m~\\anaconda3\\lib\\site-packages\\sklearn\\model_selection\\_search.py\u001b[0m in \u001b[0;36mscore\u001b[1;34m(self, X, y)\u001b[0m\n\u001b[0;32m    457\u001b[0m         \u001b[0m_check_refit\u001b[0m\u001b[1;33m(\u001b[0m\u001b[0mself\u001b[0m\u001b[1;33m,\u001b[0m \u001b[1;34m\"score\"\u001b[0m\u001b[1;33m)\u001b[0m\u001b[1;33m\u001b[0m\u001b[1;33m\u001b[0m\u001b[0m\n\u001b[0;32m    458\u001b[0m         \u001b[0mcheck_is_fitted\u001b[0m\u001b[1;33m(\u001b[0m\u001b[0mself\u001b[0m\u001b[1;33m)\u001b[0m\u001b[1;33m\u001b[0m\u001b[1;33m\u001b[0m\u001b[0m\n\u001b[1;32m--> 459\u001b[1;33m         \u001b[1;32mif\u001b[0m \u001b[0mself\u001b[0m\u001b[1;33m.\u001b[0m\u001b[0mscorer_\u001b[0m \u001b[1;32mis\u001b[0m \u001b[1;32mNone\u001b[0m\u001b[1;33m:\u001b[0m\u001b[1;33m\u001b[0m\u001b[1;33m\u001b[0m\u001b[0m\n\u001b[0m\u001b[0;32m    460\u001b[0m             raise ValueError(\n\u001b[0;32m    461\u001b[0m                 \u001b[1;34m\"No score function explicitly defined, \"\u001b[0m\u001b[1;33m\u001b[0m\u001b[1;33m\u001b[0m\u001b[0m\n",
      "\u001b[1;31mAttributeError\u001b[0m: 'RandomizedSearchCV' object has no attribute 'scorer_'"
     ]
    }
   ],
   "source": [
    "print (f'Train Accuracy - : {rf_RandomGrid.score(X_train,y_train):.3f}')\n",
    "print (f'Test Accuracy - : {rf_RandomGrid.score(X_test,y_test):.3f}')"
   ]
  },
  {
   "cell_type": "code",
   "execution_count": null,
   "id": "fa2e7871",
   "metadata": {},
   "outputs": [],
   "source": []
  }
 ],
 "metadata": {
  "kernelspec": {
   "display_name": "Python 3 (ipykernel)",
   "language": "python",
   "name": "python3"
  },
  "language_info": {
   "codemirror_mode": {
    "name": "ipython",
    "version": 3
   },
   "file_extension": ".py",
   "mimetype": "text/x-python",
   "name": "python",
   "nbconvert_exporter": "python",
   "pygments_lexer": "ipython3",
   "version": "3.9.13"
  }
 },
 "nbformat": 4,
 "nbformat_minor": 5
}
